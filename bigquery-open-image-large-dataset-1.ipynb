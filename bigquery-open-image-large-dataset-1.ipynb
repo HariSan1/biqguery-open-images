{
 "cells": [
  {
   "cell_type": "markdown",
   "metadata": {
    "deletable": true,
    "editable": true
   },
   "source": [
    "We can access BigQuery's public datasets directly. Simply describe the dataset and table name properly, and bingo! you can query the data.\n",
    "You can browse through Bigquery's public datasets here: https://bigquery.cloud.google.com/publicdatasets/\n",
    "\n",
    "### Section 1\n",
    "\n",
    "Look at the tables - structure, sample data, run some queries on them\n",
    "\n",
    "\n",
    "### Section 2\n",
    "\n",
    "Query for specific types of images, then:\n",
    "- get the original URL for each file for that type\n",
    "- access, download and save the files\n",
    "- copy the files to a specific cloud storage bucket"
   ]
  },
  {
   "cell_type": "markdown",
   "metadata": {},
   "source": [
    "## Section 1\n",
    "### Let's take a peek at the Open Images Dataset and run some queries on the tables\n",
    "\n",
    "The Open Image dataset has four tables. For each of the 4, we will:\n",
    "\n",
    "- list the # of rows\n",
    "- peek into each one\n",
    "- list the fields\n",
    "- preview a sample of the data content\n",
    "- on some of them, run other queries to validate the speed of BigQuery!"
   ]
  },
  {
   "cell_type": "code",
   "execution_count": 39,
   "metadata": {
    "collapsed": true,
    "deletable": true,
    "editable": true
   },
   "outputs": [],
   "source": [
    "#import tools\n",
    "import google.datalab.bigquery as bq\n",
    "import matplotlib.pyplot as plot\n",
    "import numpy as np\n",
    "import pandas as pd\n",
    "from pandas.io import gbq\n",
    "import plotly.plotly as py\n",
    "import plotly.graph_objs as go\n",
    "from plotly.tools import FigureFactory as FF"
   ]
  },
  {
   "cell_type": "code",
   "execution_count": 40,
   "metadata": {
    "collapsed": false,
    "deletable": true,
    "editable": true
   },
   "outputs": [
    {
     "data": {
      "text/html": [
       "\n",
       "    <div class=\"bqsv\" id=\"2_153972307197\"></div>\n",
       "    <script src=\"/static/components/requirejs/require.js\"></script>\n",
       "    <script>\n",
       "      require.config({\n",
       "        paths: {\n",
       "          base: '/static/base',\n",
       "        },\n",
       "        map: {\n",
       "          '*': {\n",
       "            datalab: 'nbextensions/gcpdatalab'\n",
       "          }\n",
       "        },\n",
       "      });\n",
       "\n",
       "      require(['datalab/bigquery', 'datalab/element!2_153972307197',\n",
       "          'datalab/style!/nbextensions/gcpdatalab/bigquery.css'],\n",
       "        function(bq, dom) {\n",
       "          bq.renderSchema(dom, [{\"type\": \"STRING\", \"name\": \"image_id\"}, {\"type\": \"STRING\", \"name\": \"source\"}, {\"type\": \"STRING\", \"name\": \"label_name\"}, {\"type\": \"FLOAT\", \"name\": \"confidence\"}, {\"type\": \"FLOAT\", \"name\": \"x_min\"}, {\"type\": \"FLOAT\", \"name\": \"x_max\"}, {\"type\": \"FLOAT\", \"name\": \"y_min\"}, {\"type\": \"FLOAT\", \"name\": \"y_max\"}, {\"type\": \"BOOLEAN\", \"name\": \"is_occluded\"}, {\"type\": \"BOOLEAN\", \"name\": \"is_truncated\"}, {\"type\": \"BOOLEAN\", \"name\": \"is_group_of\"}, {\"type\": \"BOOLEAN\", \"name\": \"is_depiction\"}, {\"type\": \"BOOLEAN\", \"name\": \"is_inside\"}]);\n",
       "        }\n",
       "      );\n",
       "    </script>\n",
       "    "
      ],
      "text/plain": [
       "<IPython.core.display.HTML object>"
      ]
     },
     "execution_count": 40,
     "metadata": {},
     "output_type": "execute_result"
    }
   ],
   "source": [
    "%%bq tables describe --name \"bigquery-public-data.open_images.annotations_bbox\"\n",
    "#describe dataset.table fields, types, and if available -> mode, description"
   ]
  },
  {
   "cell_type": "markdown",
   "metadata": {
    "deletable": true,
    "editable": true
   },
   "source": [
    "## Table 1: Annotations (\"annotations_bbox\")\n",
    "Describes the attributes of the file - source, label name, confidence (of the label with the image), x and y mins and max, and other image parameters."
   ]
  },
  {
   "cell_type": "code",
   "execution_count": 42,
   "metadata": {
    "collapsed": false,
    "deletable": true,
    "editable": true
   },
   "outputs": [
    {
     "data": {
      "text/html": [
       "\n",
       "    <div class=\"bqsv\" id=\"3_153972307215\"></div>\n",
       "    <script src=\"/static/components/requirejs/require.js\"></script>\n",
       "    <script>\n",
       "      require.config({\n",
       "        paths: {\n",
       "          base: '/static/base',\n",
       "        },\n",
       "        map: {\n",
       "          '*': {\n",
       "            datalab: 'nbextensions/gcpdatalab'\n",
       "          }\n",
       "        },\n",
       "      });\n",
       "\n",
       "      require(['datalab/bigquery', 'datalab/element!3_153972307215',\n",
       "          'datalab/style!/nbextensions/gcpdatalab/bigquery.css'],\n",
       "        function(bq, dom) {\n",
       "          bq.renderSchema(dom, [{\"type\": \"STRING\", \"name\": \"image_id\"}, {\"type\": \"STRING\", \"name\": \"source\"}, {\"type\": \"STRING\", \"name\": \"label_name\"}, {\"type\": \"FLOAT\", \"name\": \"confidence\"}, {\"type\": \"FLOAT\", \"name\": \"x_min\"}, {\"type\": \"FLOAT\", \"name\": \"x_max\"}, {\"type\": \"FLOAT\", \"name\": \"y_min\"}, {\"type\": \"FLOAT\", \"name\": \"y_max\"}, {\"type\": \"BOOLEAN\", \"name\": \"is_occluded\"}, {\"type\": \"BOOLEAN\", \"name\": \"is_truncated\"}, {\"type\": \"BOOLEAN\", \"name\": \"is_group_of\"}, {\"type\": \"BOOLEAN\", \"name\": \"is_depiction\"}, {\"type\": \"BOOLEAN\", \"name\": \"is_inside\"}]);\n",
       "        }\n",
       "      );\n",
       "    </script>\n",
       "    "
      ],
      "text/plain": [
       "<IPython.core.display.HTML object>"
      ]
     },
     "execution_count": 42,
     "metadata": {},
     "output_type": "execute_result"
    }
   ],
   "source": [
    "%%bq tables describe --name \"bigquery-public-data.open_images.annotations_bbox\""
   ]
  },
  {
   "cell_type": "code",
   "execution_count": 43,
   "metadata": {
    "collapsed": false,
    "deletable": true,
    "editable": true
   },
   "outputs": [
    {
     "data": {
      "text/html": [
       "\n",
       "    <div class=\"bqtv\" id=\"4_153972307528\"><table><tr><th>image_id</th><th>label_name</th><th>confidence</th><th>x_min</th><th>y_min</th><th>is_depiction</th></tr><tr><td>0001a282f0638ef1</td><td>/m/0hnyx</td><td>1.0</td><td>0.122</td><td>0.001</td><td>&nbsp;</td></tr><tr><td>000323390354c939</td><td>/m/0284d</td><td>1.0</td><td>0.141</td><td>0.244</td><td>&nbsp;</td></tr><tr><td>0001a1b43b815ec2</td><td>/m/04dr76w</td><td>1.0</td><td>0.593</td><td>0.148</td><td>&nbsp;</td></tr><tr><td>00031197fb7b015d</td><td>/m/0c_jw</td><td>1.0</td><td>0.457</td><td>0.657</td><td>&nbsp;</td></tr><tr><td>00037418480b82d5</td><td>/m/081qc</td><td>1.0</td><td>0.457</td><td>0.686</td><td>&nbsp;</td></tr></table></div>\n",
       "    <br />(rows: 5, time: 1.3s,   109MB processed, job: job_TY92UX1MQxy9wUncA6s9n_MxuuNi)<br />\n",
       "    <script src=\"/static/components/requirejs/require.js\"></script>\n",
       "    <script>\n",
       "      require.config({\n",
       "        paths: {\n",
       "          base: '/static/base',\n",
       "          d3: '//cdnjs.cloudflare.com/ajax/libs/d3/3.4.13/d3',\n",
       "          plotly: 'https://cdn.plot.ly/plotly-1.5.1.min.js?noext',\n",
       "          jquery: '//ajax.googleapis.com/ajax/libs/jquery/2.0.0/jquery.min'\n",
       "        },\n",
       "        map: {\n",
       "          '*': {\n",
       "            datalab: 'nbextensions/gcpdatalab'\n",
       "          }\n",
       "        },\n",
       "        shim: {\n",
       "          plotly: {\n",
       "            deps: ['d3', 'jquery'],\n",
       "            exports: 'plotly'\n",
       "          }\n",
       "        }\n",
       "      });\n",
       "\n",
       "      require(['datalab/charting', 'datalab/element!4_153972307528', 'base/js/events',\n",
       "          'datalab/style!/nbextensions/gcpdatalab/charting.css'],\n",
       "        function(charts, dom, events) {\n",
       "          charts.render('gcharts', dom, events, 'table', [], {\"rows\": [{\"c\": [{\"v\": \"0001a282f0638ef1\"}, {\"v\": \"/m/0hnyx\"}, {\"v\": 1.0}, {\"v\": 0.122}, {\"v\": 0.001}, {\"v\": null}]}, {\"c\": [{\"v\": \"000323390354c939\"}, {\"v\": \"/m/0284d\"}, {\"v\": 1.0}, {\"v\": 0.141}, {\"v\": 0.244}, {\"v\": null}]}, {\"c\": [{\"v\": \"0001a1b43b815ec2\"}, {\"v\": \"/m/04dr76w\"}, {\"v\": 1.0}, {\"v\": 0.593}, {\"v\": 0.148}, {\"v\": null}]}, {\"c\": [{\"v\": \"00031197fb7b015d\"}, {\"v\": \"/m/0c_jw\"}, {\"v\": 1.0}, {\"v\": 0.457}, {\"v\": 0.657}, {\"v\": null}]}, {\"c\": [{\"v\": \"00037418480b82d5\"}, {\"v\": \"/m/081qc\"}, {\"v\": 1.0}, {\"v\": 0.457}, {\"v\": 0.686}, {\"v\": null}]}], \"cols\": [{\"type\": \"string\", \"id\": \"image_id\", \"label\": \"image_id\"}, {\"type\": \"string\", \"id\": \"label_name\", \"label\": \"label_name\"}, {\"type\": \"number\", \"id\": \"confidence\", \"label\": \"confidence\"}, {\"type\": \"number\", \"id\": \"x_min\", \"label\": \"x_min\"}, {\"type\": \"number\", \"id\": \"y_min\", \"label\": \"y_min\"}, {\"type\": \"boolean\", \"id\": \"is_depiction\", \"label\": \"is_depiction\"}]},\n",
       "            {\n",
       "              pageSize: 25,\n",
       "              cssClassNames:  {\n",
       "                tableRow: 'gchart-table-row',\n",
       "                headerRow: 'gchart-table-headerrow',\n",
       "                oddTableRow: 'gchart-table-oddrow',\n",
       "                selectedTableRow: 'gchart-table-selectedrow',\n",
       "                hoverTableRow: 'gchart-table-hoverrow',\n",
       "                tableCell: 'gchart-table-cell',\n",
       "                headerCell: 'gchart-table-headercell',\n",
       "                rowNumberCell: 'gchart-table-rownumcell'\n",
       "              }\n",
       "            },\n",
       "            {source_index: 0, fields: 'image_id,label_name,confidence,x_min,y_min,is_depiction'},\n",
       "            0,\n",
       "            5);\n",
       "        }\n",
       "      );\n",
       "    </script>\n",
       "  "
      ],
      "text/plain": [
       "QueryResultsTable job_TY92UX1MQxy9wUncA6s9n_MxuuNi"
      ]
     },
     "execution_count": 43,
     "metadata": {},
     "output_type": "execute_result"
    }
   ],
   "source": [
    "bq.Query.from_table(table1).execute(sampling=bq.Sampling.default(\n",
    "    fields=['image_id',\n",
    "            'label_name',\n",
    "            'confidence',\n",
    "            'x_min',\n",
    "            'y_min',\n",
    "            'is_depiction'])).result()"
   ]
  },
  {
   "cell_type": "markdown",
   "metadata": {
    "deletable": true,
    "editable": true
   },
   "source": [
    "## Table 2: Dictionary (\"dict\")\n",
    "Describes the label name, and the descriptive name, which is the one that makes sense to humans to describe the image!"
   ]
  },
  {
   "cell_type": "code",
   "execution_count": 44,
   "metadata": {
    "collapsed": false,
    "deletable": true,
    "editable": true
   },
   "outputs": [
    {
     "data": {
      "text/plain": [
       "19868"
      ]
     },
     "execution_count": 44,
     "metadata": {},
     "output_type": "execute_result"
    }
   ],
   "source": [
    "table2=bq.Table('bigquery-public-data.open_images.dict')\n",
    "table2.metadata.rows"
   ]
  },
  {
   "cell_type": "code",
   "execution_count": 45,
   "metadata": {
    "collapsed": false,
    "deletable": true,
    "editable": true
   },
   "outputs": [
    {
     "data": {
      "text/html": [
       "\n",
       "    <div class=\"bqsv\" id=\"5_153972307750\"></div>\n",
       "    <script src=\"/static/components/requirejs/require.js\"></script>\n",
       "    <script>\n",
       "      require.config({\n",
       "        paths: {\n",
       "          base: '/static/base',\n",
       "        },\n",
       "        map: {\n",
       "          '*': {\n",
       "            datalab: 'nbextensions/gcpdatalab'\n",
       "          }\n",
       "        },\n",
       "      });\n",
       "\n",
       "      require(['datalab/bigquery', 'datalab/element!5_153972307750',\n",
       "          'datalab/style!/nbextensions/gcpdatalab/bigquery.css'],\n",
       "        function(bq, dom) {\n",
       "          bq.renderSchema(dom, [{\"type\": \"STRING\", \"name\": \"label_name\"}, {\"type\": \"STRING\", \"name\": \"label_display_name\"}]);\n",
       "        }\n",
       "      );\n",
       "    </script>\n",
       "    "
      ],
      "text/plain": [
       "<IPython.core.display.HTML object>"
      ]
     },
     "execution_count": 45,
     "metadata": {},
     "output_type": "execute_result"
    }
   ],
   "source": [
    "%%bq tables describe --name \"bigquery-public-data.open_images.dict\""
   ]
  },
  {
   "cell_type": "code",
   "execution_count": 46,
   "metadata": {
    "collapsed": false,
    "deletable": true,
    "editable": true
   },
   "outputs": [
    {
     "data": {
      "text/html": [
       "\n",
       "    <div class=\"bqtv\" id=\"6_153972308026\"><table><tr><th>label_name</th><th>label_display_name</th></tr><tr><td>/m/01www</td><td>CD</td></tr><tr><td>/m/0h989</td><td>Go</td></tr><tr><td>/m/03bx7vb</td><td>Ox</td></tr><tr><td>/m/01lgkm</td><td>RV</td></tr><tr><td>/m/012wxt</td><td>Vj</td></tr></table></div>\n",
       "    <br />(rows: 5, time: 1.2s,   492KB processed, job: job_QrPeato1IdBxv8t9Am7loWfLqb0Y)<br />\n",
       "    <script src=\"/static/components/requirejs/require.js\"></script>\n",
       "    <script>\n",
       "      require.config({\n",
       "        paths: {\n",
       "          base: '/static/base',\n",
       "          d3: '//cdnjs.cloudflare.com/ajax/libs/d3/3.4.13/d3',\n",
       "          plotly: 'https://cdn.plot.ly/plotly-1.5.1.min.js?noext',\n",
       "          jquery: '//ajax.googleapis.com/ajax/libs/jquery/2.0.0/jquery.min'\n",
       "        },\n",
       "        map: {\n",
       "          '*': {\n",
       "            datalab: 'nbextensions/gcpdatalab'\n",
       "          }\n",
       "        },\n",
       "        shim: {\n",
       "          plotly: {\n",
       "            deps: ['d3', 'jquery'],\n",
       "            exports: 'plotly'\n",
       "          }\n",
       "        }\n",
       "      });\n",
       "\n",
       "      require(['datalab/charting', 'datalab/element!6_153972308026', 'base/js/events',\n",
       "          'datalab/style!/nbextensions/gcpdatalab/charting.css'],\n",
       "        function(charts, dom, events) {\n",
       "          charts.render('gcharts', dom, events, 'table', [], {\"rows\": [{\"c\": [{\"v\": \"/m/01www\"}, {\"v\": \"CD\"}]}, {\"c\": [{\"v\": \"/m/0h989\"}, {\"v\": \"Go\"}]}, {\"c\": [{\"v\": \"/m/03bx7vb\"}, {\"v\": \"Ox\"}]}, {\"c\": [{\"v\": \"/m/01lgkm\"}, {\"v\": \"RV\"}]}, {\"c\": [{\"v\": \"/m/012wxt\"}, {\"v\": \"Vj\"}]}], \"cols\": [{\"type\": \"string\", \"id\": \"label_name\", \"label\": \"label_name\"}, {\"type\": \"string\", \"id\": \"label_display_name\", \"label\": \"label_display_name\"}]},\n",
       "            {\n",
       "              pageSize: 25,\n",
       "              cssClassNames:  {\n",
       "                tableRow: 'gchart-table-row',\n",
       "                headerRow: 'gchart-table-headerrow',\n",
       "                oddTableRow: 'gchart-table-oddrow',\n",
       "                selectedTableRow: 'gchart-table-selectedrow',\n",
       "                hoverTableRow: 'gchart-table-hoverrow',\n",
       "                tableCell: 'gchart-table-cell',\n",
       "                headerCell: 'gchart-table-headercell',\n",
       "                rowNumberCell: 'gchart-table-rownumcell'\n",
       "              }\n",
       "            },\n",
       "            {source_index: 1, fields: 'label_name,label_display_name'},\n",
       "            0,\n",
       "            5);\n",
       "        }\n",
       "      );\n",
       "    </script>\n",
       "  "
      ],
      "text/plain": [
       "QueryResultsTable job_QrPeato1IdBxv8t9Am7loWfLqb0Y"
      ]
     },
     "execution_count": 46,
     "metadata": {},
     "output_type": "execute_result"
    }
   ],
   "source": [
    "bq.Query.from_table(table2).execute(sampling=bq.Sampling.default(\n",
    "    fields=['label_name',\n",
    "            'label_display_name'])).result()"
   ]
  },
  {
   "cell_type": "code",
   "execution_count": 47,
   "metadata": {
    "collapsed": true,
    "deletable": true,
    "editable": true
   },
   "outputs": [],
   "source": [
    "%%bq query --name image_types\n",
    "SELECT DISTINCT label_display_name as lname, COUNT(label_display_name)as namecount\n",
    "FROM `bigquery-public-data.open_images.dict`\n",
    "GROUP BY lname"
   ]
  },
  {
   "cell_type": "code",
   "execution_count": 48,
   "metadata": {
    "collapsed": false,
    "deletable": true,
    "editable": true
   },
   "outputs": [
    {
     "data": {
      "text/html": [
       "\n",
       "    <div class=\"bqtv\" id=\"7_153972308342\"><table><tr><th>lname</th><th>namecount</th></tr><tr><td>Ferrari 288 gto</td><td>1</td></tr><tr><td>Salt water taffy</td><td>1</td></tr><tr><td>Toboggan</td><td>1</td></tr><tr><td>800 metres</td><td>1</td></tr><tr><td>Geraniales</td><td>1</td></tr><tr><td>Sea captain</td><td>1</td></tr><tr><td>Ford crown victoria</td><td>1</td></tr><tr><td>Reciprocating saws</td><td>1</td></tr><tr><td>Forehead</td><td>1</td></tr><tr><td>Hyundai genesis coupe</td><td>1</td></tr><tr><td>Dorset olde tyme bulldogge</td><td>1</td></tr><tr><td>Ssangyong musso</td><td>1</td></tr><tr><td>Shadow</td><td>1</td></tr><tr><td>Suzuki escudo</td><td>1</td></tr><tr><td>Silver haired Bat</td><td>1</td></tr><tr><td>Huevos divorciados</td><td>1</td></tr><tr><td>Alphorn</td><td>1</td></tr><tr><td>Ford ikon</td><td>1</td></tr><tr><td>Saab sonett</td><td>1</td></tr><tr><td>Rove Beetle</td><td>1</td></tr><tr><td>Flying lizard</td><td>1</td></tr><tr><td>Studio couch</td><td>1</td></tr><tr><td>Chevrolet montana</td><td>1</td></tr><tr><td>Teenage puppy love</td><td>1</td></tr><tr><td>Syngnathiformes</td><td>1</td></tr></table></div>\n",
       "    <br />(rows: 19587, time: 1.3s,   271KB processed, job: job_jG6ORZr2eqdZhdFVl2nDde_2Bpm6)<br />\n",
       "    <script src=\"/static/components/requirejs/require.js\"></script>\n",
       "    <script>\n",
       "      require.config({\n",
       "        paths: {\n",
       "          base: '/static/base',\n",
       "          d3: '//cdnjs.cloudflare.com/ajax/libs/d3/3.4.13/d3',\n",
       "          plotly: 'https://cdn.plot.ly/plotly-1.5.1.min.js?noext',\n",
       "          jquery: '//ajax.googleapis.com/ajax/libs/jquery/2.0.0/jquery.min'\n",
       "        },\n",
       "        map: {\n",
       "          '*': {\n",
       "            datalab: 'nbextensions/gcpdatalab'\n",
       "          }\n",
       "        },\n",
       "        shim: {\n",
       "          plotly: {\n",
       "            deps: ['d3', 'jquery'],\n",
       "            exports: 'plotly'\n",
       "          }\n",
       "        }\n",
       "      });\n",
       "\n",
       "      require(['datalab/charting', 'datalab/element!7_153972308342', 'base/js/events',\n",
       "          'datalab/style!/nbextensions/gcpdatalab/charting.css'],\n",
       "        function(charts, dom, events) {\n",
       "          charts.render('gcharts', dom, events, 'paged_table', [], {\"rows\": [{\"c\": [{\"v\": \"Ferrari 288 gto\"}, {\"v\": 1}]}, {\"c\": [{\"v\": \"Salt water taffy\"}, {\"v\": 1}]}, {\"c\": [{\"v\": \"Toboggan\"}, {\"v\": 1}]}, {\"c\": [{\"v\": \"800 metres\"}, {\"v\": 1}]}, {\"c\": [{\"v\": \"Geraniales\"}, {\"v\": 1}]}, {\"c\": [{\"v\": \"Sea captain\"}, {\"v\": 1}]}, {\"c\": [{\"v\": \"Ford crown victoria\"}, {\"v\": 1}]}, {\"c\": [{\"v\": \"Reciprocating saws\"}, {\"v\": 1}]}, {\"c\": [{\"v\": \"Forehead\"}, {\"v\": 1}]}, {\"c\": [{\"v\": \"Hyundai genesis coupe\"}, {\"v\": 1}]}, {\"c\": [{\"v\": \"Dorset olde tyme bulldogge\"}, {\"v\": 1}]}, {\"c\": [{\"v\": \"Ssangyong musso\"}, {\"v\": 1}]}, {\"c\": [{\"v\": \"Shadow\"}, {\"v\": 1}]}, {\"c\": [{\"v\": \"Suzuki escudo\"}, {\"v\": 1}]}, {\"c\": [{\"v\": \"Silver haired Bat\"}, {\"v\": 1}]}, {\"c\": [{\"v\": \"Huevos divorciados\"}, {\"v\": 1}]}, {\"c\": [{\"v\": \"Alphorn\"}, {\"v\": 1}]}, {\"c\": [{\"v\": \"Ford ikon\"}, {\"v\": 1}]}, {\"c\": [{\"v\": \"Saab sonett\"}, {\"v\": 1}]}, {\"c\": [{\"v\": \"Rove Beetle\"}, {\"v\": 1}]}, {\"c\": [{\"v\": \"Flying lizard\"}, {\"v\": 1}]}, {\"c\": [{\"v\": \"Studio couch\"}, {\"v\": 1}]}, {\"c\": [{\"v\": \"Chevrolet montana\"}, {\"v\": 1}]}, {\"c\": [{\"v\": \"Teenage puppy love\"}, {\"v\": 1}]}, {\"c\": [{\"v\": \"Syngnathiformes\"}, {\"v\": 1}]}], \"cols\": [{\"type\": \"string\", \"id\": \"lname\", \"label\": \"lname\"}, {\"type\": \"number\", \"id\": \"namecount\", \"label\": \"namecount\"}]},\n",
       "            {\n",
       "              pageSize: 25,\n",
       "              cssClassNames:  {\n",
       "                tableRow: 'gchart-table-row',\n",
       "                headerRow: 'gchart-table-headerrow',\n",
       "                oddTableRow: 'gchart-table-oddrow',\n",
       "                selectedTableRow: 'gchart-table-selectedrow',\n",
       "                hoverTableRow: 'gchart-table-hoverrow',\n",
       "                tableCell: 'gchart-table-cell',\n",
       "                headerCell: 'gchart-table-headercell',\n",
       "                rowNumberCell: 'gchart-table-rownumcell'\n",
       "              }\n",
       "            },\n",
       "            {source_index: 2, fields: 'lname,namecount'},\n",
       "            0,\n",
       "            19587);\n",
       "        }\n",
       "      );\n",
       "    </script>\n",
       "  "
      ],
      "text/plain": [
       "QueryResultsTable job_jG6ORZr2eqdZhdFVl2nDde_2Bpm6"
      ]
     },
     "execution_count": 48,
     "metadata": {},
     "output_type": "execute_result"
    }
   ],
   "source": [
    "image_types.execute().result()"
   ]
  },
  {
   "cell_type": "markdown",
   "metadata": {
    "deletable": true,
    "editable": true
   },
   "source": [
    "## Table 3: Images (\"images\")\n",
    "Describes the image URL, subset (eg., training), license, size, title and other features to access, retrieve, and use the actual file with which lable is associated."
   ]
  },
  {
   "cell_type": "code",
   "execution_count": 49,
   "metadata": {
    "collapsed": false,
    "deletable": true,
    "editable": true
   },
   "outputs": [
    {
     "data": {
      "text/plain": [
       "9178275"
      ]
     },
     "execution_count": 49,
     "metadata": {},
     "output_type": "execute_result"
    }
   ],
   "source": [
    "table3=bq.Table('bigquery-public-data.open_images.images')\n",
    "table3.metadata.rows"
   ]
  },
  {
   "cell_type": "code",
   "execution_count": 50,
   "metadata": {
    "collapsed": false,
    "deletable": true,
    "editable": true
   },
   "outputs": [
    {
     "data": {
      "text/html": [
       "\n",
       "    <div class=\"bqsv\" id=\"8_153972308571\"></div>\n",
       "    <script src=\"/static/components/requirejs/require.js\"></script>\n",
       "    <script>\n",
       "      require.config({\n",
       "        paths: {\n",
       "          base: '/static/base',\n",
       "        },\n",
       "        map: {\n",
       "          '*': {\n",
       "            datalab: 'nbextensions/gcpdatalab'\n",
       "          }\n",
       "        },\n",
       "      });\n",
       "\n",
       "      require(['datalab/bigquery', 'datalab/element!8_153972308571',\n",
       "          'datalab/style!/nbextensions/gcpdatalab/bigquery.css'],\n",
       "        function(bq, dom) {\n",
       "          bq.renderSchema(dom, [{\"type\": \"STRING\", \"name\": \"image_id\"}, {\"type\": \"STRING\", \"name\": \"subset\"}, {\"type\": \"STRING\", \"name\": \"original_url\"}, {\"type\": \"STRING\", \"name\": \"original_landing_url\"}, {\"type\": \"STRING\", \"name\": \"license\"}, {\"type\": \"STRING\", \"name\": \"author_profile_url\"}, {\"type\": \"STRING\", \"name\": \"author\"}, {\"type\": \"STRING\", \"name\": \"title\"}, {\"type\": \"INTEGER\", \"name\": \"original_size\"}, {\"type\": \"STRING\", \"name\": \"original_md5\"}, {\"type\": \"STRING\", \"name\": \"thumbnail_300k_url\"}]);\n",
       "        }\n",
       "      );\n",
       "    </script>\n",
       "    "
      ],
      "text/plain": [
       "<IPython.core.display.HTML object>"
      ]
     },
     "execution_count": 50,
     "metadata": {},
     "output_type": "execute_result"
    }
   ],
   "source": [
    "%%bq tables describe --name \"bigquery-public-data.open_images.images\""
   ]
  },
  {
   "cell_type": "code",
   "execution_count": 51,
   "metadata": {
    "collapsed": false,
    "deletable": true,
    "editable": true
   },
   "outputs": [
    {
     "data": {
      "text/html": [
       "\n",
       "    <div class=\"bqtv\" id=\"9_153972308889\"><table><tr><th>subset</th><th>original_url</th><th>original_landing_url</th><th>license</th><th>title</th></tr><tr><td>train</td><td>https://farm4.staticflickr.com/7162/6707198107_1993d73034_o.jpg</td><td>https://www.flickr.com/photos/spreadshirt/6707198107</td><td>https://creativecommons.org/licenses/by/2.0/</td><td>Men’s Pique Polo (NA)</td></tr><tr><td>train</td><td>https://c8.staticflickr.com/4/3676/11012143656_40a5269d42_o.jpg</td><td>https://www.flickr.com/photos/pawel_pacholec/11012143656</td><td>https://creativecommons.org/licenses/by/2.0/</td><td>Ladybug on green leaf</td></tr><tr><td>train</td><td>https://c4.staticflickr.com/9/8157/7599640374_f278fa5bd7_o.jpg</td><td>https://www.flickr.com/photos/biodivlibrary/7599640374</td><td>https://creativecommons.org/licenses/by/2.0/</td><td>n53_w1150</td></tr><tr><td>train</td><td>https://c7.staticflickr.com/5/4101/4861005456_71b3b0be00_o.jpg</td><td>https://www.flickr.com/photos/aliestelle/4861005456</td><td>https://creativecommons.org/licenses/by/2.0/</td><td>DSC_4918</td></tr><tr><td>train</td><td>https://farm5.staticflickr.com/5443/17832643436_904497178e_o.jpg</td><td>https://www.flickr.com/photos/usarmyafrica/17832643436</td><td>https://creativecommons.org/licenses/by/2.0/</td><td>Central Accord 2015</td></tr></table></div>\n",
       "    <br />(rows: 5, time: 1.4s,     1GB processed, job: job_0Zvp3AAfF6SWHkEK56Ug6auDdzjS)<br />\n",
       "    <script src=\"/static/components/requirejs/require.js\"></script>\n",
       "    <script>\n",
       "      require.config({\n",
       "        paths: {\n",
       "          base: '/static/base',\n",
       "          d3: '//cdnjs.cloudflare.com/ajax/libs/d3/3.4.13/d3',\n",
       "          plotly: 'https://cdn.plot.ly/plotly-1.5.1.min.js?noext',\n",
       "          jquery: '//ajax.googleapis.com/ajax/libs/jquery/2.0.0/jquery.min'\n",
       "        },\n",
       "        map: {\n",
       "          '*': {\n",
       "            datalab: 'nbextensions/gcpdatalab'\n",
       "          }\n",
       "        },\n",
       "        shim: {\n",
       "          plotly: {\n",
       "            deps: ['d3', 'jquery'],\n",
       "            exports: 'plotly'\n",
       "          }\n",
       "        }\n",
       "      });\n",
       "\n",
       "      require(['datalab/charting', 'datalab/element!9_153972308889', 'base/js/events',\n",
       "          'datalab/style!/nbextensions/gcpdatalab/charting.css'],\n",
       "        function(charts, dom, events) {\n",
       "          charts.render('gcharts', dom, events, 'table', [], {\"rows\": [{\"c\": [{\"v\": \"train\"}, {\"v\": \"https://farm4.staticflickr.com/7162/6707198107_1993d73034_o.jpg\"}, {\"v\": \"https://www.flickr.com/photos/spreadshirt/6707198107\"}, {\"v\": \"https://creativecommons.org/licenses/by/2.0/\"}, {\"v\": \"Men\\u2019s Pique Polo (NA)\"}]}, {\"c\": [{\"v\": \"train\"}, {\"v\": \"https://c8.staticflickr.com/4/3676/11012143656_40a5269d42_o.jpg\"}, {\"v\": \"https://www.flickr.com/photos/pawel_pacholec/11012143656\"}, {\"v\": \"https://creativecommons.org/licenses/by/2.0/\"}, {\"v\": \"Ladybug on green leaf\"}]}, {\"c\": [{\"v\": \"train\"}, {\"v\": \"https://c4.staticflickr.com/9/8157/7599640374_f278fa5bd7_o.jpg\"}, {\"v\": \"https://www.flickr.com/photos/biodivlibrary/7599640374\"}, {\"v\": \"https://creativecommons.org/licenses/by/2.0/\"}, {\"v\": \"n53_w1150\"}]}, {\"c\": [{\"v\": \"train\"}, {\"v\": \"https://c7.staticflickr.com/5/4101/4861005456_71b3b0be00_o.jpg\"}, {\"v\": \"https://www.flickr.com/photos/aliestelle/4861005456\"}, {\"v\": \"https://creativecommons.org/licenses/by/2.0/\"}, {\"v\": \"DSC_4918\"}]}, {\"c\": [{\"v\": \"train\"}, {\"v\": \"https://farm5.staticflickr.com/5443/17832643436_904497178e_o.jpg\"}, {\"v\": \"https://www.flickr.com/photos/usarmyafrica/17832643436\"}, {\"v\": \"https://creativecommons.org/licenses/by/2.0/\"}, {\"v\": \"Central Accord 2015\"}]}], \"cols\": [{\"type\": \"string\", \"id\": \"subset\", \"label\": \"subset\"}, {\"type\": \"string\", \"id\": \"original_url\", \"label\": \"original_url\"}, {\"type\": \"string\", \"id\": \"original_landing_url\", \"label\": \"original_landing_url\"}, {\"type\": \"string\", \"id\": \"license\", \"label\": \"license\"}, {\"type\": \"string\", \"id\": \"title\", \"label\": \"title\"}]},\n",
       "            {\n",
       "              pageSize: 25,\n",
       "              cssClassNames:  {\n",
       "                tableRow: 'gchart-table-row',\n",
       "                headerRow: 'gchart-table-headerrow',\n",
       "                oddTableRow: 'gchart-table-oddrow',\n",
       "                selectedTableRow: 'gchart-table-selectedrow',\n",
       "                hoverTableRow: 'gchart-table-hoverrow',\n",
       "                tableCell: 'gchart-table-cell',\n",
       "                headerCell: 'gchart-table-headercell',\n",
       "                rowNumberCell: 'gchart-table-rownumcell'\n",
       "              }\n",
       "            },\n",
       "            {source_index: 3, fields: 'subset,original_url,original_landing_url,license,title'},\n",
       "            0,\n",
       "            5);\n",
       "        }\n",
       "      );\n",
       "    </script>\n",
       "  "
      ],
      "text/plain": [
       "QueryResultsTable job_0Zvp3AAfF6SWHkEK56Ug6auDdzjS"
      ]
     },
     "execution_count": 51,
     "metadata": {},
     "output_type": "execute_result"
    }
   ],
   "source": [
    "bq.Query.from_table(table3).execute(sampling=bq.Sampling.default(\n",
    "    fields=['subset',\n",
    "            'original_url',\n",
    "            'original_landing_url',\n",
    "            'license',\n",
    "            'title'])).result()"
   ]
  },
  {
   "cell_type": "markdown",
   "metadata": {
    "deletable": true,
    "editable": true
   },
   "source": [
    "## Table 4: labels (\"labels\")\n",
    "Lists the image id, source (whether it was labeled by humans or machine), label name, and the confidence of the label. Some of the fields are duplicated in other tables, such as image ids."
   ]
  },
  {
   "cell_type": "code",
   "execution_count": 52,
   "metadata": {
    "collapsed": false,
    "deletable": true,
    "editable": true
   },
   "outputs": [
    {
     "data": {
      "text/plain": [
       "92665550"
      ]
     },
     "execution_count": 52,
     "metadata": {},
     "output_type": "execute_result"
    }
   ],
   "source": [
    "table4=bq.Table('bigquery-public-data.open_images.labels')\n",
    "table4.metadata.rows"
   ]
  },
  {
   "cell_type": "code",
   "execution_count": 53,
   "metadata": {
    "collapsed": false,
    "deletable": true,
    "editable": true
   },
   "outputs": [
    {
     "data": {
      "text/html": [
       "\n",
       "    <div class=\"bqsv\" id=\"10_153972309110\"></div>\n",
       "    <script src=\"/static/components/requirejs/require.js\"></script>\n",
       "    <script>\n",
       "      require.config({\n",
       "        paths: {\n",
       "          base: '/static/base',\n",
       "        },\n",
       "        map: {\n",
       "          '*': {\n",
       "            datalab: 'nbextensions/gcpdatalab'\n",
       "          }\n",
       "        },\n",
       "      });\n",
       "\n",
       "      require(['datalab/bigquery', 'datalab/element!10_153972309110',\n",
       "          'datalab/style!/nbextensions/gcpdatalab/bigquery.css'],\n",
       "        function(bq, dom) {\n",
       "          bq.renderSchema(dom, [{\"type\": \"STRING\", \"name\": \"image_id\"}, {\"type\": \"STRING\", \"name\": \"source\"}, {\"type\": \"STRING\", \"name\": \"label_name\"}, {\"type\": \"FLOAT\", \"name\": \"confidence\"}]);\n",
       "        }\n",
       "      );\n",
       "    </script>\n",
       "    "
      ],
      "text/plain": [
       "<IPython.core.display.HTML object>"
      ]
     },
     "execution_count": 53,
     "metadata": {},
     "output_type": "execute_result"
    }
   ],
   "source": [
    "%%bq tables describe --name \"bigquery-public-data.open_images.labels\""
   ]
  },
  {
   "cell_type": "code",
   "execution_count": 54,
   "metadata": {
    "collapsed": false,
    "deletable": true,
    "editable": true
   },
   "outputs": [
    {
     "data": {
      "text/plain": [
       "{u'confidence': 0.0,\n",
       " u'image_id': '001dd90fc5ae92c9',\n",
       " u'label_name': '/m/0dj6p',\n",
       " u'source': 'human'}"
      ]
     },
     "execution_count": 54,
     "metadata": {},
     "output_type": "execute_result"
    }
   ],
   "source": [
    "df2 = bq.Query.from_table(table4).execute(sampling=bq.Sampling.default(\n",
    "    fields=['image_id',\n",
    "            'source',\n",
    "            'label_name',\n",
    "            'confidence'])).result()\n",
    "df2[0]"
   ]
  },
  {
   "cell_type": "code",
   "execution_count": 55,
   "metadata": {
    "collapsed": false,
    "deletable": true,
    "editable": true
   },
   "outputs": [
    {
     "data": {
      "text/html": [
       "\n",
       "    <div class=\"bqtv\" id=\"11_153972309439\"><table><tr><th>image_id</th><th>source</th><th>label_name</th><th>confidence</th></tr><tr><td>001dd90fc5ae92c9</td><td>human</td><td>/m/0dj6p</td><td>0.0</td></tr><tr><td>0021653528cec6d7</td><td>human</td><td>/m/058hry</td><td>0.0</td></tr><tr><td>005e9907ccccfcf7</td><td>human</td><td>/m/0162v0</td><td>0.0</td></tr><tr><td>0079eddf36c14e63</td><td>human</td><td>/m/01hj56</td><td>0.0</td></tr><tr><td>008e0dc6b90fd509</td><td>human</td><td>/m/037p63</td><td>0.0</td></tr></table></div>\n",
       "    <br />(rows: 5, time: 1.4s,     4GB processed, job: job_sbw8wadbckBnT4c717S67Pan65l9)<br />\n",
       "    <script src=\"/static/components/requirejs/require.js\"></script>\n",
       "    <script>\n",
       "      require.config({\n",
       "        paths: {\n",
       "          base: '/static/base',\n",
       "          d3: '//cdnjs.cloudflare.com/ajax/libs/d3/3.4.13/d3',\n",
       "          plotly: 'https://cdn.plot.ly/plotly-1.5.1.min.js?noext',\n",
       "          jquery: '//ajax.googleapis.com/ajax/libs/jquery/2.0.0/jquery.min'\n",
       "        },\n",
       "        map: {\n",
       "          '*': {\n",
       "            datalab: 'nbextensions/gcpdatalab'\n",
       "          }\n",
       "        },\n",
       "        shim: {\n",
       "          plotly: {\n",
       "            deps: ['d3', 'jquery'],\n",
       "            exports: 'plotly'\n",
       "          }\n",
       "        }\n",
       "      });\n",
       "\n",
       "      require(['datalab/charting', 'datalab/element!11_153972309439', 'base/js/events',\n",
       "          'datalab/style!/nbextensions/gcpdatalab/charting.css'],\n",
       "        function(charts, dom, events) {\n",
       "          charts.render('gcharts', dom, events, 'table', [], {\"rows\": [{\"c\": [{\"v\": \"001dd90fc5ae92c9\"}, {\"v\": \"human\"}, {\"v\": \"/m/0dj6p\"}, {\"v\": 0.0}]}, {\"c\": [{\"v\": \"0021653528cec6d7\"}, {\"v\": \"human\"}, {\"v\": \"/m/058hry\"}, {\"v\": 0.0}]}, {\"c\": [{\"v\": \"005e9907ccccfcf7\"}, {\"v\": \"human\"}, {\"v\": \"/m/0162v0\"}, {\"v\": 0.0}]}, {\"c\": [{\"v\": \"0079eddf36c14e63\"}, {\"v\": \"human\"}, {\"v\": \"/m/01hj56\"}, {\"v\": 0.0}]}, {\"c\": [{\"v\": \"008e0dc6b90fd509\"}, {\"v\": \"human\"}, {\"v\": \"/m/037p63\"}, {\"v\": 0.0}]}], \"cols\": [{\"type\": \"string\", \"id\": \"image_id\", \"label\": \"image_id\"}, {\"type\": \"string\", \"id\": \"source\", \"label\": \"source\"}, {\"type\": \"string\", \"id\": \"label_name\", \"label\": \"label_name\"}, {\"type\": \"number\", \"id\": \"confidence\", \"label\": \"confidence\"}]},\n",
       "            {\n",
       "              pageSize: 25,\n",
       "              cssClassNames:  {\n",
       "                tableRow: 'gchart-table-row',\n",
       "                headerRow: 'gchart-table-headerrow',\n",
       "                oddTableRow: 'gchart-table-oddrow',\n",
       "                selectedTableRow: 'gchart-table-selectedrow',\n",
       "                hoverTableRow: 'gchart-table-hoverrow',\n",
       "                tableCell: 'gchart-table-cell',\n",
       "                headerCell: 'gchart-table-headercell',\n",
       "                rowNumberCell: 'gchart-table-rownumcell'\n",
       "              }\n",
       "            },\n",
       "            {source_index: 4, fields: 'image_id,source,label_name,confidence'},\n",
       "            0,\n",
       "            5);\n",
       "        }\n",
       "      );\n",
       "    </script>\n",
       "  "
      ],
      "text/plain": [
       "QueryResultsTable job_sbw8wadbckBnT4c717S67Pan65l9"
      ]
     },
     "execution_count": 55,
     "metadata": {},
     "output_type": "execute_result"
    }
   ],
   "source": [
    "df2"
   ]
  },
  {
   "cell_type": "code",
   "execution_count": 56,
   "metadata": {
    "collapsed": true,
    "deletable": true,
    "editable": true
   },
   "outputs": [],
   "source": [
    "%%bq query --name sources\n",
    "SELECT source AS sname, COUNT(source) as watchnum\n",
    "FROM `bigquery-public-data.open_images.labels`\n",
    "GROUP BY sname"
   ]
  },
  {
   "cell_type": "code",
   "execution_count": 57,
   "metadata": {
    "collapsed": false,
    "deletable": true,
    "editable": true
   },
   "outputs": [
    {
     "data": {
      "text/html": [
       "\n",
       "    <div class=\"bqtv\" id=\"12_153972309798\"><table><tr><th>sname</th><th>watchnum</th></tr><tr><td>human</td><td>11629927</td></tr><tr><td>machine</td><td>81035623</td></tr></table></div>\n",
       "    <br />(rows: 2, time: 1.8s,   810MB processed, job: job_WVMXB_S6Jgl-5SMAB5pYcS83XvuY)<br />\n",
       "    <script src=\"/static/components/requirejs/require.js\"></script>\n",
       "    <script>\n",
       "      require.config({\n",
       "        paths: {\n",
       "          base: '/static/base',\n",
       "          d3: '//cdnjs.cloudflare.com/ajax/libs/d3/3.4.13/d3',\n",
       "          plotly: 'https://cdn.plot.ly/plotly-1.5.1.min.js?noext',\n",
       "          jquery: '//ajax.googleapis.com/ajax/libs/jquery/2.0.0/jquery.min'\n",
       "        },\n",
       "        map: {\n",
       "          '*': {\n",
       "            datalab: 'nbextensions/gcpdatalab'\n",
       "          }\n",
       "        },\n",
       "        shim: {\n",
       "          plotly: {\n",
       "            deps: ['d3', 'jquery'],\n",
       "            exports: 'plotly'\n",
       "          }\n",
       "        }\n",
       "      });\n",
       "\n",
       "      require(['datalab/charting', 'datalab/element!12_153972309798', 'base/js/events',\n",
       "          'datalab/style!/nbextensions/gcpdatalab/charting.css'],\n",
       "        function(charts, dom, events) {\n",
       "          charts.render('gcharts', dom, events, 'table', [], {\"rows\": [{\"c\": [{\"v\": \"human\"}, {\"v\": 11629927}]}, {\"c\": [{\"v\": \"machine\"}, {\"v\": 81035623}]}], \"cols\": [{\"type\": \"string\", \"id\": \"sname\", \"label\": \"sname\"}, {\"type\": \"number\", \"id\": \"watchnum\", \"label\": \"watchnum\"}]},\n",
       "            {\n",
       "              pageSize: 25,\n",
       "              cssClassNames:  {\n",
       "                tableRow: 'gchart-table-row',\n",
       "                headerRow: 'gchart-table-headerrow',\n",
       "                oddTableRow: 'gchart-table-oddrow',\n",
       "                selectedTableRow: 'gchart-table-selectedrow',\n",
       "                hoverTableRow: 'gchart-table-hoverrow',\n",
       "                tableCell: 'gchart-table-cell',\n",
       "                headerCell: 'gchart-table-headercell',\n",
       "                rowNumberCell: 'gchart-table-rownumcell'\n",
       "              }\n",
       "            },\n",
       "            {source_index: 5, fields: 'sname,watchnum'},\n",
       "            0,\n",
       "            2);\n",
       "        }\n",
       "      );\n",
       "    </script>\n",
       "  "
      ],
      "text/plain": [
       "QueryResultsTable job_WVMXB_S6Jgl-5SMAB5pYcS83XvuY"
      ]
     },
     "execution_count": 57,
     "metadata": {},
     "output_type": "execute_result"
    }
   ],
   "source": [
    "sources.execute().result()"
   ]
  },
  {
   "cell_type": "markdown",
   "metadata": {
    "deletable": true,
    "editable": true
   },
   "source": [
    "## Section 2\n",
    "### Get specific type of images to build Image repository for Processing\n",
    "- Create a query specifying images labelled as \"traffic signs\"\n",
    "- Get the urls for each of those files\n",
    "- Access, download and save each of them\n",
    "- Copy them to a storage bucket, presumably for Image processing or to build an AI model"
   ]
  },
  {
   "cell_type": "code",
   "execution_count": 58,
   "metadata": {
    "collapsed": false,
    "deletable": true,
    "editable": true
   },
   "outputs": [
    {
     "name": "stdout",
     "output_type": "stream",
     "text": [
      "Requesting query... ok.\n",
      "Job ID: afe7625e-2a1f-4efb-b093-0cfd1cdf9d2a\n",
      "Query running...\n",
      "Query done.\n",
      "Cache hit.\n",
      "\n",
      "Retrieving results...\n",
      "Got 75 rows.\n",
      "\n",
      "Total time taken 0.82 s.\n",
      "Finished at 2018-10-16 20:51:39.\n"
     ]
    }
   ],
   "source": [
    "#insert your project id here\n",
    "#then create a query specifying what kind of images you want to see; I wanted traffic signs, so my query is pulling titles with traffic sign in their names\n",
    "# then put the results in a dataframe (df1)\n",
    "projectid = \"hs-backup-updraft\"\n",
    "test_query = \"\"\"SELECT original_url FROM [bigquery-public-data.open_images.images] WHERE title LIKE '%traffic sign%' GROUP BY original_url\"\"\"\n",
    "df1 = gbq.read_gbq(test_query, projectid)"
   ]
  },
  {
   "cell_type": "code",
   "execution_count": 59,
   "metadata": {
    "collapsed": false,
    "deletable": true,
    "editable": true
   },
   "outputs": [],
   "source": [
    "import urllib\n",
    "import urllib2\n",
    "bucket = 'gs://' + 'open-images-urls/' + '*.jpg'"
   ]
  },
  {
   "cell_type": "code",
   "execution_count": 63,
   "metadata": {
    "collapsed": false
   },
   "outputs": [],
   "source": [
    "bucket_storage = 'gs://' + 'open-images-urls/'"
   ]
  },
  {
   "cell_type": "code",
   "execution_count": 61,
   "metadata": {
    "collapsed": false
   },
   "outputs": [
    {
     "name": "stdout",
     "output_type": "stream",
     "text": [
      "('writing file: ', 'temp-0.jpg')\n",
      "('writing file: ', 'temp-1.jpg')\n",
      "('writing file: ', 'temp-2.jpg')\n",
      "('writing file: ', 'temp-3.jpg')\n",
      "('writing file: ', 'temp-4.jpg')\n",
      "('writing file: ', 'temp-5.jpg')\n",
      "('writing file: ', 'temp-6.jpg')\n",
      "('writing file: ', 'temp-7.jpg')\n",
      "('writing file: ', 'temp-8.jpg')\n",
      "('writing file: ', 'temp-9.jpg')\n",
      "('writing file: ', 'temp-10.jpg')\n",
      "('writing file: ', 'temp-11.jpg')\n",
      "('writing file: ', 'temp-12.jpg')\n",
      "('writing file: ', 'temp-13.jpg')\n",
      "('writing file: ', 'temp-14.jpg')\n",
      "('writing file: ', 'temp-15.jpg')\n",
      "('writing file: ', 'temp-16.jpg')\n",
      "('writing file: ', 'temp-17.jpg')\n",
      "('writing file: ', 'temp-18.jpg')\n",
      "('writing file: ', 'temp-19.jpg')\n",
      "('writing file: ', 'temp-20.jpg')\n",
      "('writing file: ', 'temp-21.jpg')\n",
      "('writing file: ', 'temp-22.jpg')\n",
      "('writing file: ', 'temp-23.jpg')\n",
      "('writing file: ', 'temp-24.jpg')\n",
      "('writing file: ', 'temp-25.jpg')\n",
      "('writing file: ', 'temp-26.jpg')\n",
      "('writing file: ', 'temp-27.jpg')\n",
      "('writing file: ', 'temp-28.jpg')\n",
      "('writing file: ', 'temp-29.jpg')\n",
      "('writing file: ', 'temp-30.jpg')\n",
      "('writing file: ', 'temp-31.jpg')\n",
      "('writing file: ', 'temp-32.jpg')\n",
      "('writing file: ', 'temp-33.jpg')\n",
      "('writing file: ', 'temp-34.jpg')\n",
      "('writing file: ', 'temp-35.jpg')\n",
      "('writing file: ', 'temp-36.jpg')\n",
      "('writing file: ', 'temp-37.jpg')\n",
      "('writing file: ', 'temp-38.jpg')\n",
      "('writing file: ', 'temp-39.jpg')\n",
      "('writing file: ', 'temp-40.jpg')\n",
      "('writing file: ', 'temp-41.jpg')\n",
      "('writing file: ', 'temp-42.jpg')\n",
      "('writing file: ', 'temp-43.jpg')\n",
      "('writing file: ', 'temp-44.jpg')\n",
      "('writing file: ', 'temp-45.jpg')\n",
      "('writing file: ', 'temp-46.jpg')\n",
      "('writing file: ', 'temp-47.jpg')\n",
      "('writing file: ', 'temp-48.jpg')\n",
      "('writing file: ', 'temp-49.jpg')\n",
      "('writing file: ', 'temp-50.jpg')\n",
      "('writing file: ', 'temp-51.jpg')\n",
      "('writing file: ', 'temp-52.jpg')\n",
      "('writing file: ', 'temp-53.jpg')\n",
      "('writing file: ', 'temp-54.jpg')\n",
      "('writing file: ', 'temp-55.jpg')\n",
      "('writing file: ', 'temp-56.jpg')\n",
      "('writing file: ', 'temp-57.jpg')\n",
      "('writing file: ', 'temp-58.jpg')\n",
      "('writing file: ', 'temp-59.jpg')\n",
      "('writing file: ', 'temp-60.jpg')\n",
      "('writing file: ', 'temp-61.jpg')\n",
      "('writing file: ', 'temp-62.jpg')\n",
      "('writing file: ', 'temp-63.jpg')\n",
      "('writing file: ', 'temp-64.jpg')\n",
      "('writing file: ', 'temp-65.jpg')\n",
      "('writing file: ', 'temp-66.jpg')\n",
      "('writing file: ', 'temp-67.jpg')\n",
      "('writing file: ', 'temp-68.jpg')\n",
      "('writing file: ', 'temp-69.jpg')\n",
      "('writing file: ', 'temp-70.jpg')\n",
      "('writing file: ', 'temp-71.jpg')\n",
      "('writing file: ', 'temp-72.jpg')\n",
      "('writing file: ', 'temp-73.jpg')\n",
      "('writing file: ', 'temp-74.jpg')\n"
     ]
    }
   ],
   "source": [
    "#take dataframe and make it a list to make for easier reading\n",
    "url_list=df1['original_url'].tolist()\n",
    "#convert from unicode to list of bytes,string, otherwise there is a 'u' in front of each list element\n",
    "my_list = [str(url_list[x]) for x in range(len(url_list))]\n",
    "\n",
    "#for each element of the list (each url containing 1 image of the type specified in the query)\n",
    "#read the file\n",
    "#initialize the counter y, then for each file save, update it, which also is used for adding to the file name that it will be saved as - for example, temp1, temp2 and so on\n",
    "#once file is accessed through the url (website) and opened, save it for yourself to do ML image processing or whatever you want\n",
    "#print a message after each file is saved\n",
    "#----------------------------------------------\n",
    "import cStringIO # *much* faster than StringIO\n",
    "import urllib\n",
    "from PIL import Image\n",
    "y=0\n",
    "for x in my_list:\n",
    "    file_write = \"temp\" + \"-\" + str(y) + \".jpg\"\n",
    "    y = y + 1\n",
    "    file = urllib.urlopen(x)\n",
    "    im = cStringIO.StringIO(file.read()) # constructs a StringIO holding the image\n",
    "    img = Image.open(im)\n",
    "    img.save(file_write)\n",
    "    print(\"writing file: \", file_write)\n",
    "    "
   ]
  },
  {
   "cell_type": "code",
   "execution_count": 62,
   "metadata": {
    "collapsed": false
   },
   "outputs": [
    {
     "name": "stdout",
     "output_type": "stream",
     "text": [
      "Copying file://temp-23.jpg [Content-Type=image/jpeg]...\n",
      "Copying file://temp-0.jpg [Content-Type=image/jpeg]...                          \n",
      "Copying file://temp-43.jpg [Content-Type=image/jpeg]...                         \n",
      "Copying file://temp-6.jpg [Content-Type=image/jpeg]...                          \n",
      "\\ [4 files][  2.6 MiB/  2.6 MiB]                                                \n",
      "==> NOTE: You are performing a sequence of gsutil operations that may\n",
      "run significantly faster if you instead use gsutil -m -o ... Please\n",
      "see the -m section under \"gsutil help options\" for further information\n",
      "about when gsutil -m can be advantageous.\n",
      "\n",
      "Copying file://temp-55.jpg [Content-Type=image/jpeg]...\n",
      "Copying file://temp-47.jpg [Content-Type=image/jpeg]...                         \n",
      "Copying file://temp-60.jpg [Content-Type=image/jpeg]...                         \n",
      "Copying file://temp-44.jpg [Content-Type=image/jpeg]...                         \n",
      "Copying file://temp-57.jpg [Content-Type=image/jpeg]...                         \n",
      "Copying file://temp-4.jpg [Content-Type=image/jpeg]...                          \n",
      "Copying file://temp-34.jpg [Content-Type=image/jpeg]...                         \n",
      "Copying file://temp-72.jpg [Content-Type=image/jpeg]...                         \n",
      "Copying file://temp-48.jpg [Content-Type=image/jpeg]...                         \n",
      "Copying file://temp-24.jpg [Content-Type=image/jpeg]...                         \n",
      "Copying file://temp-17.jpg [Content-Type=image/jpeg]...                         \n",
      "Copying file://temp-62.jpg [Content-Type=image/jpeg]...                         \n",
      "Copying file://temp-18.jpg [Content-Type=image/jpeg]...                         \n",
      "Copying file://temp-28.jpg [Content-Type=image/jpeg]...                         \n",
      "Copying file://temp-54.jpg [Content-Type=image/jpeg]...                         \n",
      "Copying file://temp-51.jpg [Content-Type=image/jpeg]...                         \n",
      "Copying file://temp-45.jpg [Content-Type=image/jpeg]...                         \n",
      "Copying file://tsb1.jpg [Content-Type=image/jpeg]...                            \n",
      "Copying file://temp-36.jpg [Content-Type=image/jpeg]...                         \n",
      "Copying file://temp-49.jpg [Content-Type=image/jpeg]...                         \n",
      "Copying file://temp-66.jpg [Content-Type=image/jpeg]...                         \n",
      "Copying file://temp-26.jpg [Content-Type=image/jpeg]...                         \n",
      "Copying file://temp-52.jpg [Content-Type=image/jpeg]...                         \n",
      "Copying file://temp-20.jpg [Content-Type=image/jpeg]...                         \n",
      "Copying file://temp-74.jpg [Content-Type=image/jpeg]...                         \n",
      "Copying file://temp-50.jpg [Content-Type=image/jpeg]...                         \n",
      "Copying file://temp-12.jpg [Content-Type=image/jpeg]...                         \n",
      "Copying file://temp-33.jpg [Content-Type=image/jpeg]...                         \n",
      "Copying file://temp-64.jpg [Content-Type=image/jpeg]...                         \n",
      "Copying file://temp-71.jpg [Content-Type=image/jpeg]...                         \n",
      "Copying file://temp-56.jpg [Content-Type=image/jpeg]...                         \n",
      "Copying file://temp-10.jpg [Content-Type=image/jpeg]...                         \n",
      "Copying file://temp-32.jpg [Content-Type=image/jpeg]...                         \n",
      "Copying file://temp-68.jpg [Content-Type=image/jpeg]...                         \n",
      "Copying file://temp-8.jpg [Content-Type=image/jpeg]...                          \n",
      "Copying file://temp-29.jpg [Content-Type=image/jpeg]...                         \n",
      "Copying file://temp-39.jpg [Content-Type=image/jpeg]...                         \n",
      "Copying file://temp-53.jpg [Content-Type=image/jpeg]...                         \n",
      "Copying file://temp-67.jpg [Content-Type=image/jpeg]...                         \n",
      "Copying file://temp-14.jpg [Content-Type=image/jpeg]...                         \n",
      "Copying file://temp-70.jpg [Content-Type=image/jpeg]...                         \n",
      "Copying file://temp-35.jpg [Content-Type=image/jpeg]...                         \n",
      "Copying file://temp-69.jpg [Content-Type=image/jpeg]...                         \n",
      "Copying file://temp-5.jpg [Content-Type=image/jpeg]...                          \n",
      "Copying file://temp-11.jpg [Content-Type=image/jpeg]...                         \n",
      "Copying file://temp-9.jpg [Content-Type=image/jpeg]...                          \n",
      "Copying file://temp-22.jpg [Content-Type=image/jpeg]...                         \n",
      "Copying file://temp-30.jpg [Content-Type=image/jpeg]...                         \n",
      "Copying file://temp-21.jpg [Content-Type=image/jpeg]...                         \n",
      "Copying file://temp-40.jpg [Content-Type=image/jpeg]...                         \n",
      "Copying file://temp-59.jpg [Content-Type=image/jpeg]...                         \n",
      "Copying file://temp-7.jpg [Content-Type=image/jpeg]...                          \n",
      "Copying file://temp-65.jpg [Content-Type=image/jpeg]...                         \n",
      "Copying file://temp-19.jpg [Content-Type=image/jpeg]...                         \n",
      "Copying file://temp-41.jpg [Content-Type=image/jpeg]...                         \n",
      "Copying file://temp-16.jpg [Content-Type=image/jpeg]...                         \n",
      "Copying file://temp-42.jpg [Content-Type=image/jpeg]...                         \n",
      "Copying file://temp-37.jpg [Content-Type=image/jpeg]...                         \n",
      "Copying file://tsb2.jpg [Content-Type=image/jpeg]...                            \n",
      "Copying file://temp-1.jpg [Content-Type=image/jpeg]...                          \n",
      "Copying file://temp-27.jpg [Content-Type=image/jpeg]...                         \n",
      "Copying file://temp-15.jpg [Content-Type=image/jpeg]...                         \n",
      "Copying file://temp-63.jpg [Content-Type=image/jpeg]...                         \n",
      "Copying file://temp-38.jpg [Content-Type=image/jpeg]...                         \n",
      "Copying file://temp-61.jpg [Content-Type=image/jpeg]...                         \n",
      "Copying file://temp-25.jpg [Content-Type=image/jpeg]...                         \n",
      "Copying file://temp-46.jpg [Content-Type=image/jpeg]...                         \n",
      "Copying file://temp-73.jpg [Content-Type=image/jpeg]...                         \n",
      "Copying file://temp-3.jpg [Content-Type=image/jpeg]...                          \n",
      "Copying file://temp-2.jpg [Content-Type=image/jpeg]...                          \n",
      "Copying file://temp-58.jpg [Content-Type=image/jpeg]...                         \n",
      "Copying file://temp-31.jpg [Content-Type=image/jpeg]...                         \n",
      "Copying file://temp-13.jpg [Content-Type=image/jpeg]...                         \n",
      "\\ [77 files][ 53.5 MiB/ 53.5 MiB]    1.2 MiB/s                                  \n",
      "==> NOTE: You are performing a sequence of gsutil operations that may\n",
      "run significantly faster if you instead use gsutil -m -o ... Please\n",
      "see the -m section under \"gsutil help options\" for further information\n",
      "about when gsutil -m can be advantageous.\n",
      "\n",
      "\n",
      "Operation completed over 77 objects/53.5 MiB.                                    \n"
     ]
    }
   ],
   "source": [
    "#specify your Google cloud storage bucket\n",
    "#use gsutil to copy the files to that bucket\n",
    "bucket_storage = 'gs://' + 'open-images-urls/'\n",
    "!gsutil cp '*.jpg' $bucket_storage"
   ]
  }
 ],
 "metadata": {
  "kernelspec": {
   "display_name": "Python 2",
   "language": "python",
   "name": "python2"
  },
  "language_info": {
   "codemirror_mode": {
    "name": "ipython",
    "version": 2
   },
   "file_extension": ".py",
   "mimetype": "text/x-python",
   "name": "python",
   "nbconvert_exporter": "python",
   "pygments_lexer": "ipython2",
   "version": "2.7.15"
  }
 },
 "nbformat": 4,
 "nbformat_minor": 2
}
